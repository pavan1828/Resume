{
 "cells": [
  {
   "cell_type": "markdown",
   "id": "22394511",
   "metadata": {},
   "source": [
    "![](C:\\Users\\pc\\OneDrive\\Pictures\\pp1.jpg)\n"
   ]
  },
  {
   "cell_type": "markdown",
   "id": "c912194e",
   "metadata": {},
   "source": [
    "# MADDURI PAVAN KUMAR REDDY \n",
    "<img src=\"https://media.licdn.com/dms/image/D4D03AQGdz1JqBsQd-w/profile-displayphoto-shrink_800_800/0/1696857149405?e=2147483647&v=beta&t=01bEY1S7c4CX5BNgjuJ_lMvzGY5_iV98uAnLrrjZY0E\" height=\"150\" width=\"150\" align=\"right\"> \n",
    "\n",
    "<b> Contact Information: </b>\n",
    "* Email: pavanreddy1828@gmail.com\n",
    "* Linkedin: [LinkedIn Profile](https://www.linkedin.com/in/madduri-pavan-kumar-reddy-71b593275/)\n",
    "* Location: Hyderabad, Telangana\n",
    "* Phone: +919676230874"
   ]
  },
  {
   "cell_type": "markdown",
   "id": "cde7f668",
   "metadata": {},
   "source": [
    "# CARRER OBJECTIVE\n",
    "<hr style=\"border: 0; border-top: 2px solid black;\">"
   ]
  },
  {
   "cell_type": "markdown",
   "id": "6a7f279c",
   "metadata": {},
   "source": [
    "My career goal is to continuously enhance skills, contribute to success, and stay ahead of industry\n",
    "trends.Istrive to build strong relationships, collaborate effectively, and embrace innovation for growth and\n",
    "strategicimpact. With dedication and adaptability,I aim to make a positive and lasting difference in the\n",
    "organization."
   ]
  },
  {
   "cell_type": "markdown",
   "id": "b09a4a59",
   "metadata": {},
   "source": [
    "# EDUCATION\n",
    "<hr style=\"border: 0; border-top: 2px solid black;\">\n",
    "<b>Bcom(computer Applications)</b>\n",
    "<br>\n",
    "AV College of Arts,Science and commerce\n",
    "<br>\n",
    "Percentage:80\n",
    "<div style=\"text-align: right;\">2019-2022 | Hyderabad,India</div>\n"
   ]
  },
  {
   "cell_type": "markdown",
   "id": "e385444c",
   "metadata": {},
   "source": [
    "<b>Higher Secondary(TSBIE)</b>\n",
    "<br>\n",
    "Sri Chaitanya Junior College\n",
    "<br>\n",
    "Percentage:92\n",
    "<div style=\"text-align:right;\">2016-2018 | Hyderabad,India</div>"
   ]
  },
  {
   "cell_type": "markdown",
   "id": "11ed427f",
   "metadata": {},
   "source": [
    "<b>High School(SSC)</b>\n",
    "<br>\n",
    "Mahathi Vidhya Nikethan High School\n",
    "<br>\n",
    "Percentage:82\n",
    "<div style=\"text-align : right;\">2015-2016 | Gajwel India</div>"
   ]
  },
  {
   "cell_type": "markdown",
   "id": "dd7b10fc",
   "metadata": {},
   "source": [
    "# SKILLS\n",
    "<hr style=\"border:0;border-top:2px solid black\">"
   ]
  },
  {
   "cell_type": "markdown",
   "id": "710c02d5",
   "metadata": {},
   "source": [
    "* Python\n",
    "* Database Management (SQL)\n",
    "* Data Structures and Algorithms\n",
    "* Problem-Solving Abilities\n",
    "* Communication Skills\n",
    "\n"
   ]
  },
  {
   "cell_type": "markdown",
   "id": "53efa10f",
   "metadata": {},
   "source": [
    "# SOFT SKILLS\n",
    "<hr style=\"border :0 ; border-top:2px solid black\"> "
   ]
  },
  {
   "cell_type": "markdown",
   "id": "10170579",
   "metadata": {},
   "source": [
    "* Time Management\n",
    "* Problem-Solving\n",
    "* Teamwork\n",
    "* Stress Management\n"
   ]
  },
  {
   "cell_type": "markdown",
   "id": "e53afbc5",
   "metadata": {},
   "source": [
    "# LANGUAGES\n",
    "<hr style=\"border:0;border-top:2px solid black\">"
   ]
  },
  {
   "cell_type": "markdown",
   "id": "6d0a5bcd",
   "metadata": {},
   "source": [
    "* Telugu\n",
    "* Hindi\n",
    "* English"
   ]
  },
  {
   "cell_type": "markdown",
   "id": "6f8d82d8",
   "metadata": {},
   "source": [
    "# INTERESTS\n",
    "<hr style=\"border:0;border-top:2px solid black\">\n"
   ]
  },
  {
   "cell_type": "markdown",
   "id": "c05b80e8",
   "metadata": {},
   "source": [
    "* Reading\n",
    "* Travelling\n",
    "* Technology Enthusiast"
   ]
  },
  {
   "cell_type": "markdown",
   "id": "f7c0f783",
   "metadata": {},
   "source": [
    "# DECLARATION\n",
    "<hr style=\"border:0;border-top:2px solid black\">\n",
    "I am passionate about applying my skills and expertise to drive impactful results. Committed to delivering\n",
    "exceptional performance and contributing to the success of the organization.\n"
   ]
  },
  {
   "cell_type": "markdown",
   "id": "a711fa5a",
   "metadata": {},
   "source": [
    "\n"
   ]
  },
  {
   "cell_type": "markdown",
   "id": "b73ea856",
   "metadata": {},
   "source": [
    "<blockquote style=\"text-align: right;\">\n",
    "    <b>Madduri Pavan Kumar Reddy</b>\n",
    "\n"
   ]
  }
 ],
 "metadata": {
  "kernelspec": {
   "display_name": "Python 3 (ipykernel)",
   "language": "python",
   "name": "python3"
  },
  "language_info": {
   "codemirror_mode": {
    "name": "ipython",
    "version": 3
   },
   "file_extension": ".py",
   "mimetype": "text/x-python",
   "name": "python",
   "nbconvert_exporter": "python",
   "pygments_lexer": "ipython3",
   "version": "3.11.5"
  }
 },
 "nbformat": 4,
 "nbformat_minor": 5
}
